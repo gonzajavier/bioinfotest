{
 "cells": [
  {
   "cell_type": "markdown",
   "id": "5de9adde",
   "metadata": {},
   "source": [
    "# Analisis de RNA-seq\n",
    "¡Requerido activar ambiente miniconda en servidor dedicado *RNAseq*! \\\n",
    "Explora los ambientes disponibles con **conda env list**  \n",
    "\n",
    "En el *práctico 2* se utilizó el software **fastq_screen** como un primer control de calidad para mapear los reads en formato fastq frente a un conjunto de genomas de referencia y lograr identificar su origen"
   ]
  },
  {
   "cell_type": "code",
   "execution_count": null,
   "id": "8ab14b31",
   "metadata": {},
   "outputs": [],
   "source": [
    "# Ejecutar en cluster dedicado\n",
    "fastq_screen ../../../data/rnaseq_MTWT/*.fastq --outdir ./"
   ]
  },
  {
   "cell_type": "markdown",
   "id": "b46b2176",
   "metadata": {},
   "source": [
    "Luego se ejecutó **FASTQC** para generar reportes de calidad de los datos de secuenciación para poder indentificar posibles problemas de lectura y contenido. Importante en el preprocesamiento de los datos"
   ]
  },
  {
   "cell_type": "code",
   "execution_count": null,
   "id": "7ae3f835",
   "metadata": {},
   "outputs": [],
   "source": [
    "fastqc ../../data/rnaseq_MTWT/*.fastq -o ./"
   ]
  },
  {
   "cell_type": "markdown",
   "id": "57c0b509",
   "metadata": {},
   "source": [
    "### **Pre-procesamiento de RNA-seq**\n",
    "Prueba inicial para corte de adaptadores y filtrado de secuencias utilizando CutAdapt 5.1 con Python 3.10.18 siguiendo la siguiente línea de comandos.\\\n",
    "> **Nota:**\\\n",
    "> La lista de adaptadores y de posibles contaminantes fue obtenida de \\\n",
    "> https://support-docs.illumina.com/SHARE/AdapterSequences/Content/SHARE/AdapterSeq/Nextera/SequencesNextera_Illumina.htm"
   ]
  },
  {
   "cell_type": "code",
   "execution_count": null,
   "id": "60e00453",
   "metadata": {},
   "outputs": [],
   "source": [
    "# Ejecución de la linea de comandos sobre ambiente miniconda con los programas respectivos instalados\n",
    "\n",
    "cutadapt -a CTGTCTCTTATACACATCT -A CTGTCTCTTATACACATCT --action trim -u -5 -U -5 \\\n",
    "-q 30 -Q 30 --poly-a --trim-n --pair-filter=any --minimum-length 35 \\\n",
    "-o WT1_R1_out.fastq -p WT1_R2_out.fastq ../../data/rnaseq_MTWT/WT1_Pax6_R1_subset.fastq ../../data/rnaseq_MTWT/WT1_Pax6_R2_subset.fastq > reportWT1.txt"
   ]
  },
  {
   "cell_type": "markdown",
   "id": "210af933",
   "metadata": {},
   "source": [
    "Siempre ejecutar **FastQC** para verificar la calidad del filtrado y modificaciones de los reads"
   ]
  },
  {
   "cell_type": "code",
   "execution_count": null,
   "id": "4be5cc8f",
   "metadata": {},
   "outputs": [],
   "source": [
    "fastqc *.fastq -o quality_ctrl/"
   ]
  }
 ],
 "metadata": {
  "kernelspec": {
   "display_name": "bioinfotest",
   "language": "python",
   "name": "python3"
  },
  "language_info": {
   "name": "python",
   "version": "3.12.2"
  }
 },
 "nbformat": 4,
 "nbformat_minor": 5
}
