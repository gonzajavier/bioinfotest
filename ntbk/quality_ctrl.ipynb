{
 "cells": [
  {
   "cell_type": "markdown",
   "id": "5de9adde",
   "metadata": {},
   "source": [
    "# Práctico 2\n",
    "¡Requerido activar ambiente miniconda en servidor dedicado [RNAseq]!\n",
    "### Fastq Screen\n",
    "\n",
    "Inicialmente se realizó un primer control de calidad con el software Fastq Screen para mapear los reads en formato fastq frente a un conjunto de genomas de referencia y lograr identificar su origen"
   ]
  },
  {
   "cell_type": "code",
   "execution_count": null,
   "id": "8ab14b31",
   "metadata": {},
   "outputs": [],
   "source": [
    "# Ejecutar en cluster dedicado\n",
    "fastq_screen ../../../data/rnaseq_MTWT/*.fastq --outdir ./"
   ]
  },
  {
   "cell_type": "markdown",
   "id": "b46b2176",
   "metadata": {},
   "source": [
    "### FastQC\n",
    "\n",
    "Luego se ejecutó FASTQC para generar reportes de calidad de los datos de secuenciación para poder indentificar posibles problemas de lectura y contenido. Importante en el preprocesamiento de los datos"
   ]
  },
  {
   "cell_type": "code",
   "execution_count": null,
   "id": "7ae3f835",
   "metadata": {},
   "outputs": [],
   "source": [
    "fastqc ../../data/rnaseq_MTWT/*.fastq -o ./"
   ]
  }
 ],
 "metadata": {
  "kernelspec": {
   "display_name": "bioinfotest",
   "language": "python",
   "name": "python3"
  },
  "language_info": {
   "name": "python",
   "version": "3.12.2"
  }
 },
 "nbformat": 4,
 "nbformat_minor": 5
}
