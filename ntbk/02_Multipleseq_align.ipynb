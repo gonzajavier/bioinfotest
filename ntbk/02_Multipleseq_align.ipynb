{
 "cells": [
  {
   "cell_type": "markdown",
   "id": "24419040",
   "metadata": {},
   "source": [
    "# **Alineamiento múltiple de secuencias** \n",
    "## Software utilizado: BLAST y MAFFT"
   ]
  },
  {
   "cell_type": "markdown",
   "id": "df2cecd3",
   "metadata": {},
   "source": [
    "Inicialmente importamos las librerías necesarias para ejecutar con éxito el alineamiento múltiple\n",
    "\n",
    "Posteriormente buscamos datos como secuencia y nombre de GLUT1 en base al código de indexación en la base de datos UNIPROT y lo guardamos en la carpeta *\"../run\"*"
   ]
  },
  {
   "cell_type": "code",
   "execution_count": 12,
   "id": "b826bb7a",
   "metadata": {},
   "outputs": [],
   "source": [
    "# Libraries import\n",
    "from Bio import ExPASy, SwissProt\n",
    "from Bio import SeqIO\n",
    "from Bio import AlignIO\n",
    "from Bio.Blast import NCBIWWW, NCBIXML\n",
    "from Bio.Seq import Seq\n",
    "from Bio.SeqRecord import SeqRecord\n",
    "from Bio.PDB import PDBList\n",
    "import os\n",
    "import xml.etree.ElementTree as ET\n",
    "from io import StringIO\n",
    "import subprocess\n",
    "import pandas as pd\n",
    "import requests"
   ]
  },
  {
   "cell_type": "code",
   "execution_count": null,
   "id": "c5ecb75d",
   "metadata": {},
   "outputs": [],
   "source": [
    "uniprot_code = 'P11166' # GLUT1 - SLC2A1\n",
    "\n",
    "#=== Fetch the sequence from UniProt ===\n",
    "handle = ExPASy.get_sprot_raw(uniprot_code)\n",
    "record = SeqIO.read(handle, 'swiss')\n",
    "prot_nm = record.name\n",
    "prot_sq = record.seq\n",
    "\n",
    "#=== Save as FASTA file ===\n",
    "output_dir = \"../run/\"\n",
    "os.makedirs(output_dir, exist_ok=True)\n",
    "fasta_path = os.path.join(output_dir, f\"{prot_nm}.fasta\")\n",
    "\n",
    "with open(fasta_path, 'w') as fasta_file:\n",
    "    SeqIO.write(record, fasta_file, 'fasta')\n",
    "\n",
    "#=== Print the sequence ===\n",
    "print(f'Nombre de la proteína: ', prot_nm)\n",
    "print(f\"Archivo FASTA guardado en: {fasta_path}\")"
   ]
  },
  {
   "cell_type": "markdown",
   "id": "a331591c",
   "metadata": {},
   "source": [
    "Si conoces el PDB_ID de la o las proteinas que quieres alinear, ejecuta esta celda.\n",
    "\n",
    "Si no es así, ejecuta la celda siguiente"
   ]
  },
  {
   "cell_type": "code",
   "execution_count": 16,
   "id": "0a81b1b8",
   "metadata": {},
   "outputs": [
    {
     "name": "stdout",
     "output_type": "stream",
     "text": [
      "Descargando archivos FASTA...\n",
      "✔️ 4pyp.fasta descargado exitosamente.\n",
      "✔️ 5eqg.fasta descargado exitosamente.\n",
      "✔️ 5eqh.fasta descargado exitosamente.\n",
      "✔️ 5eqi.fasta descargado exitosamente.\n",
      "✔️ 6tha.fasta descargado exitosamente.\n"
     ]
    }
   ],
   "source": [
    "def download_fasta_from_pdb(pdb_ids, outputdir):\n",
    "    \"\"\"\n",
    "    Descarga secuencias FASTA para una lista de IDs de PDB dados.\n",
    "    \"\"\"\n",
    "    base_url = \"https://www.uniprot.org/uploadlists/\"\n",
    "    \n",
    "    # Prepara los IDs para la petición. UniProt puede manejar múltiples IDs separados por espacio o coma.\n",
    "    # Usaremos el formato UniProt (mapeo de PDB a UniProt)\n",
    "    \n",
    "    # La interfaz de UniProt permite mapear PDB IDs a UniProt IDs y luego obtener los FASTA.\n",
    "    # Otra opción más directa, si solo necesitas la secuencia de la entrada PDB específica\n",
    "    # y no el mapeo a UniProt, es usar el RCSB PDB directamente.\n",
    "\n",
    "    print(\"Descargando archivos FASTA...\")\n",
    "    \n",
    "    for pdb_id in pdb_ids:\n",
    "        # Usaremos el servidor del RCSB PDB directamente para obtener el FASTA de la entrada PDB.\n",
    "        # Esto suele ser más directo para secuencias asociadas con la entrada PDB.\n",
    "        fasta_url = f\"https://www.rcsb.org/fasta/entry/{pdb_id}/download\"\n",
    "        os.makedirs(output_dir, exist_ok=True)\n",
    "\n",
    "        try:\n",
    "            response = requests.get(fasta_url)\n",
    "            response.raise_for_status()  # Genera una excepción para errores HTTP (4xx o 5xx)\n",
    "            \n",
    "            # El contenido de la respuesta es el archivo FASTA\n",
    "            fasta_content = response.text\n",
    "            \n",
    "            # Guarda el contenido en un archivo FASTA\n",
    "            file_name = f\"{pdb_id}.fasta\"\n",
    "            fullpath = os.path.join(output_dir, file_name)\n",
    "            \n",
    "            with open(fullpath, 'w') as f:\n",
    "                f.write(fasta_content)\n",
    "            \n",
    "            print(f\"✔️ {file_name} descargado exitosamente.\")\n",
    "            \n",
    "        except requests.exceptions.RequestException as e:\n",
    "            print(f\"❌ Error al descargar {pdb_id}: {e}\")\n",
    "        except Exception as e:\n",
    "            print(f\"❌ Ocurrió un error inesperado con {pdb_id}: {e}\")\n",
    "\n",
    "# --- Uso del código ---\n",
    "if __name__ == \"__main__\":\n",
    "    # Puedes cambiar esta lista por los IDs de PDB que necesites\n",
    "    pdb_identifiers = ['4pyp', '5eqg', '5eqh', '5eqi', '6tha'] \n",
    "    output_dir = \"../run/comparativa\"\n",
    "\n",
    "    download_fasta_from_pdb(pdb_identifiers, output_dir)"
   ]
  },
  {
   "cell_type": "markdown",
   "id": "548c9d09",
   "metadata": {},
   "source": [
    "Una vez obtenidos esos datos, creamos una subcarpeta para guardar nuestros alineamientos.\n",
    "El fin de realizar este paso es identificar posibles homólogos de las secuencias alineadas en base a nuestra proteína, lo que puede proporcionar información valiosa sobre su función, origen evolutivo y relaciones funcionales. \n",
    "\n",
    "Al ejecutar BLAST, se genera un archivo *.xml*, el cual guardaremos en la carpeta recíen creada"
   ]
  },
  {
   "cell_type": "code",
   "execution_count": null,
   "id": "7270adf6",
   "metadata": {},
   "outputs": [],
   "source": [
    "# === General settings ===\n",
    "output_dir = \"../run/blast_mafft\"\n",
    "os.makedirs(output_dir, exist_ok=True)\n",
    "\n",
    "xml_path = os.path.join(output_dir, \"blast_results.xml\")\n",
    "fasta_path = os.path.join(output_dir, \"hits_blast.fasta\")\n",
    "aligned_path = os.path.join(output_dir, \"alignment_mafft.fasta\")\n",
    "\n",
    "#=== Run BLASTp online ===\n",
    "print(\"Ejecutando BLASTp...\")\n",
    "try:\n",
    "    result = NCBIWWW.qblast('blastp', 'pdb', prot_sq, hitlist_size=10)\n",
    "    with open(xml_path, 'w') as out_xml:\n",
    "        out_xml.write(result.read())\n",
    "    result.close()\n",
    "    print(f'Resultado BLAST guardado en {xml_path}')\n",
    "except Exception as ex:\n",
    "    print(\"Error durante BLAST:\", ex)\n",
    "    exit()"
   ]
  },
  {
   "cell_type": "markdown",
   "id": "829d6dd7",
   "metadata": {},
   "source": [
    "Luego, de los datos obtenidos, los analizaremos para facilitar la redacción y extracción de información importante como lo es la secuencia de cada proteína obtenida en el proceso anterior"
   ]
  },
  {
   "cell_type": "code",
   "execution_count": null,
   "id": "065cb03a",
   "metadata": {},
   "outputs": [],
   "source": [
    "#=== Parse results and extract sequences ===\n",
    "print(\"Extrayendo secuencias...\")\n",
    "records = []\n",
    "with open(xml_path) as result_file:\n",
    "    blast_record = NCBIXML.read(result_file)\n",
    "\n",
    "i = 1\n",
    "for alignment in blast_record.alignments:\n",
    "    for hsp in alignment.hsps:\n",
    "        if hsp.sbjct and isinstance(hsp.sbjct, str):\n",
    "            clean_seq = hsp.sbjct.replace(\"-\", \"\").strip()\n",
    "            seq = Seq(clean_seq)\n",
    "            rec_id = f'{alignment.accession}_{i}'\n",
    "            description = alignment.hit_def\n",
    "            record = SeqRecord(seq, id=rec_id, description=description)\n",
    "            records.append(record)\n",
    "            i += 1\n",
    "        break\n",
    "    if i > 10:\n",
    "        break\n",
    "\n",
    "if not records: # Sequence validation\n",
    "    print(\"No se extrajeron secuencias válidas\")\n",
    "    exit()\n",
    "\n",
    "SeqIO.write(records, fasta_path, \"fasta\") # Save in FASTA format\n",
    "print(f\"{len(records)} secuencias guardadas en: {fasta_path}\")\n"
   ]
  },
  {
   "cell_type": "markdown",
   "id": "fc14b199",
   "metadata": {},
   "source": [
    "A continuación se ejecutará el alineamiento multiple de secuencias con MAFFT. Dentro del código se crean directorios para alojar los outputs (.aln y .fasta) generados del alineamiento y se genera una tabla para visualizar el alineamiento y confirmar su correcta ejecución "
   ]
  },
  {
   "cell_type": "code",
   "execution_count": null,
   "id": "4ec8cc72",
   "metadata": {},
   "outputs": [],
   "source": [
    "def run_mafft(fasta_path: str, output_dir: str, base_name: str = \"MSA\"):\n",
    "    print(\"Ejecutando alineamiento múltiple con MAFFT\")\n",
    "\n",
    "    os.makedirs(output_dir, exist_ok=True) # confirm directory\n",
    "\n",
    "    try:\n",
    "        result = subprocess.run(\n",
    "            [\"mafft\", \"--auto\", fasta_path],\n",
    "            capture_output=True,\n",
    "            text=True,\n",
    "            check=True\n",
    "        )\n",
    "    except subprocess.CalledProcessError as er:\n",
    "        print(\"Error al ejecutar MAFFT:\")\n",
    "        print(er.stderr)\n",
    "        return None\n",
    "    \n",
    "    # Parsing alignment\n",
    "    alignment = AlignIO.read(StringIO(result.stdout), 'fasta')\n",
    "\n",
    "    # Save formats\n",
    "    fasta_out = os.path.join(output_dir, f'{base_name}.fasta')\n",
    "    clustal_out = os.path.join(output_dir, f'{base_name}.aln')\n",
    "\n",
    "    AlignIO.write(alignment, fasta_out, \"fasta\")\n",
    "    AlignIO.write(alignment, clustal_out, \"clustal\")\n",
    "\n",
    "    print(f'\\n Alineamiento guardado en:')\n",
    "    print(f'    * FASTA     : {fasta_out}')\n",
    "    print(f'    * CLUSTAL   : {clustal_out}')\n",
    "\n",
    "    return alignment # for visualize\n",
    "\n",
    "#=== Running alignment ===\n",
    "output_dir = '../run/blast_mafft'\n",
    "\n",
    "alignment = run_mafft(fasta_path, output_dir)       # For execution\n",
    "\n",
    "\n",
    "#=== Visualize the alignment as a table===\n",
    "if alignment:\n",
    "    print(\"\\n Vista tabular del alineamiento\")\n",
    "    df = pd.DataFrame({\n",
    "        record.id: list(str(record.seq)) for record in alignment\n",
    "    }).T        # Show each sequence in rows\n",
    "    df.columns = [f'Pos {i+1}'for i in range(df.shape[1])]\n",
    "    display(df)"
   ]
  }
 ],
 "metadata": {
  "kernelspec": {
   "display_name": "glutoso",
   "language": "python",
   "name": "python3"
  },
  "language_info": {
   "codemirror_mode": {
    "name": "ipython",
    "version": 3
   },
   "file_extension": ".py",
   "mimetype": "text/x-python",
   "name": "python",
   "nbconvert_exporter": "python",
   "pygments_lexer": "ipython3",
   "version": "3.12.9"
  }
 },
 "nbformat": 4,
 "nbformat_minor": 5
}
